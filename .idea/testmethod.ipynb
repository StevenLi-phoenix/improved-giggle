{
 "cells": [
  {
   "cell_type": "code",
   "execution_count": 1,
   "metadata": {},
   "outputs": [
    {
     "data": {
      "text/plain": [
       "'result-op c-container xpath-log new-pmd'"
      ]
     },
     "execution_count": 1,
     "metadata": {},
     "output_type": "execute_result"
    }
   ],
   "source": [
    "\"\"\"result-op c-container xpath-log new-pmd\"\"\""
   ]
  },
  {
   "cell_type": "code",
   "execution_count": 2,
   "metadata": {},
   "outputs": [],
   "source": [
    "import requests, time, random\n",
    "from bs4 import BeautifulSoup as BS"
   ]
  },
  {
   "cell_type": "code",
   "execution_count": 9,
   "metadata": {},
   "outputs": [],
   "source": [
    "class Worm:\n",
    "    def __init__(self):\n",
    "        self.user_agent = [\"Mozilla/5.0 (Linux; Android 6.0; Nexus 5 Build/MRA58N) AppleWebKit/537.36 (KHTML, like Gecko) Chrome/46.0.2490.76 Mobile Safari/537.36\", \"Mozilla/5.0 (Windows; U; Windows NT 6.1; en-us) AppleWebKit/534.50 (KHTML, like Gecko) Version/5.1 Safari/534.50\", \"Mozilla/4.0 (compatible; MSIE 8.0; Windows NT 6.0; Trident/4.0)\", \"Mozilla/5.0 (Windows NT 6.1; rv:2.0.1) Gecko/20100101 Firefox/4.0.1\", \"Mozilla/4.0 (compatible; MSIE 7.0; Windows NT 5.1; 360SE)\", \"Mozilla/5.0 (Windows NT 5.1) AppleWebKit/537.36 (KHTML, like Gecko) Chrome/36.0.1985.67 Safari/537.36\", \"Mozilla/5.0 (Windows NT 6.1; WOW64) AppleWebKit/537.36 (KHTML, like Gecko) Chrome/41.0.2227.0 Safari/537.36\", \"Mozilla/5.0 (Windows NT 6.3; Win64; x64) AppleWebKit/537.36 (KHTML, like Gecko) Chrome/37.0.2049.0 Safari/537.36\", \"Mozilla/5.0 (Windows NT 6.1; Win64; x64; rv:22.0) Gecko/20130328 Firefox/22.0\", \"Mozilla/5.0 (Windows NT 6.2) AppleWebKit/537.36 (KHTML, like Gecko) Chrome/28.0.1464.0 Safari/537.36\", \"Mozilla/5.0 (Windows NT 6.1; WOW64) AppleWebKit/537.36 (KHTML, like Gecko) Chrome/31.0.1623.0 Safari/537.36\", \"Mozilla/5.0 (Windows NT 6.2; Win64; x64) AppleWebKit/537.36 (KHTML, like Gecko) Chrome/32.0.1667.0 Safari/537.36\", \"Mozilla/5.0 (X11; NetBSD) AppleWebKit/537.36 (KHTML, like Gecko) Chrome/27.0.1453.116 Safari/537.36\", \"Mozilla/5.0 (Windows NT 5.0; rv:21.0) Gecko/20100101 Firefox/21.0\", \"Mozilla/5.0 (Macintosh; Intel Mac OS X 10_9_0) AppleWebKit/537.36 (KHTML, like Gecko) Chrome/32.0.1664.3 Safari/537.36\", \"Opera/9.80 (Windows NT 5.1; U; cs) Presto/2.7.62 Version/11.01\", \"Mozilla/5.0 (Macintosh; Intel Mac OS X 10_9_2) AppleWebKit/537.36 (KHTML, like Gecko) Chrome/36.0.1944.0 Safari/537.36\", \"Mozilla/5.0 (Windows NT 6.1; WOW64; rv:21.0) Gecko/20130331 Firefox/21.0\", \"Mozilla/5.0 (Macintosh; Intel Mac OS X 10_10_1) AppleWebKit/537.36 (KHTML, like Gecko) Chrome/41.0.2227.1 Safari/537.36\", \"Mozilla/5.0 (Windows NT 5.1) AppleWebKit/537.36 (KHTML, like Gecko) Chrome/36.0.1985.67 Safari/537.36\", \"Mozilla/5.0 (Windows NT 10.0) AppleWebKit/537.36 (KHTML, like Gecko) Chrome/40.0.2214.93 Safari/537.36\", \"Mozilla/5.0 (Windows NT 5.1) AppleWebKit/537.36 (KHTML, like Gecko) Chrome/36.0.1985.67 Safari/537.36\", \"Mozilla/5.0 (X11; OpenBSD i386) AppleWebKit/537.36 (KHTML, like Gecko) Chrome/36.0.1985.125 Safari/537.36\", \"Mozilla/5.0 (X11; Linux x86_64) AppleWebKit/537.36 (KHTML, like Gecko) Chrome/34.0.1847.137 Safari/4E423F\", \"Mozilla/5.0 (Windows NT 5.1) AppleWebKit/537.36 (KHTML, like Gecko) Chrome/27.0.1453.93 Safari/537.36\"]\n",
    "        self.decodetype = \"utf-8\"\n",
    "        self.ogs = []\n",
    "\n",
    "    def BS(self, content):\n",
    "        \"\"\"\n",
    "        convert content to html parser\n",
    "        :param content: String\n",
    "        :return: String\n",
    "        \"\"\"\n",
    "        return BS(content, \"html.parser\")\n",
    "\n",
    "    def header(self):\n",
    "        \"\"\"\n",
    "        Select an header with random UA\n",
    "        :return: String\n",
    "        \"\"\"\n",
    "        headers = {\n",
    "            \"user-agent\": random.choice(self.user_agent),\n",
    "        }\n",
    "        return headers\n",
    "\n",
    "    def handle_request(self, url, max_retry_time=10):\n",
    "        try: \n",
    "            respon = requests.get(url=url, headers=self.header(), timeout=1)\n",
    "            if respon.content is None: raise Exception(f\"respon content is None max_retry_time:{max_retry_time}\")\n",
    "        except Exception as e:\n",
    "            if max_retry_time >= 0:\n",
    "                print(\"SLEEP\")\n",
    "                time.sleep(1)\n",
    "                respon = self.handle_request(url, max_retry_time - 1)\n",
    "            else:\n",
    "                raise ConnectionRefusedError(f\"Retried too many times!!! Server refuse connection.\\n{e}\")\n",
    "        return respon\n",
    "    def open_url(self, url, max_retry_time=10):\n",
    "        print(f\"Start {url}\")\n",
    "        return self.handle_request(url, max_retry_time).content.decode()"
   ]
  },
  {
   "cell_type": "code",
   "execution_count": 10,
   "metadata": {},
   "outputs": [],
   "source": [
    "w = Worm()"
   ]
  },
  {
   "cell_type": "code",
   "execution_count": 11,
   "metadata": {},
   "outputs": [
    {
     "name": "stdout",
     "output_type": "stream",
     "text": [
      "Start https://www.baidu.com/s?wd=无限先知\n"
     ]
    }
   ],
   "source": [
    "content = w.BS(w.open_url(\"https://www.baidu.com/s?wd=无限先知\"))"
   ]
  },
  {
   "cell_type": "code",
   "execution_count": 16,
   "metadata": {},
   "outputs": [],
   "source": [
    "result = content.find_all(\"div\", attrs={\"class\":\"result-op c-container xpath-log new-pmd\"})"
   ]
  },
  {
   "cell_type": "code",
   "execution_count": 20,
   "metadata": {},
   "outputs": [
    {
     "data": {
      "text/plain": [
       "8"
      ]
     },
     "execution_count": 20,
     "metadata": {},
     "output_type": "execute_result"
    }
   ],
   "source": [
    "len(result)"
   ]
  },
  {
   "cell_type": "code",
   "execution_count": 23,
   "metadata": {},
   "outputs": [
    {
     "name": "stdout",
     "output_type": "stream",
     "text": [
      "https://www.xbiquge.la/19/15484/\n",
      "https://www.ddbiquge.cc/book/47784.html\n",
      "https://www.7722.org/html/64285/\n",
      "null\n",
      "https://baike.baidu.com/item/%E6%97%A0%E9%99%90%E5%85%88%E7%9F%A5/22296950\n",
      "https://www.yqxs.cc/html/110/110783/index.html\n",
      "http://tieba.baidu.com/f?kw=%CE%DE%CF%DE%CF%C8%D6%AA&fr=ala0&loc=rec&tids=7574989514,7616151566,7418536528\n",
      "https://www.xyangguiweihuo.com/6/6700/\n"
     ]
    }
   ],
   "source": [
    "for re in result:\n",
    "    print(re[\"mu\"])"
   ]
  },
  {
   "cell_type": "code",
   "execution_count": 8,
   "metadata": {},
   "outputs": [],
   "source": [
    "import json, random, time\n",
    "from tabnanny import check\n",
    "from re import S, search\n",
    "from tokenize import String\n",
    "import requests\n",
    "from bs4 import BeautifulSoup as BS\n",
    "from sklearn.feature_selection import SelectKBest\n",
    "\n",
    "\n",
    "\n",
    "class Worm:\n",
    "    def __init__(self):\n",
    "        self.user_agent = [\"Mozilla/5.0 (Linux; Android 6.0; Nexus 5 Build/MRA58N) AppleWebKit/537.36 (KHTML, like Gecko) Chrome/46.0.2490.76 Mobile Safari/537.36\", \"Mozilla/5.0 (Windows; U; Windows NT 6.1; en-us) AppleWebKit/534.50 (KHTML, like Gecko) Version/5.1 Safari/534.50\", \"Mozilla/4.0 (compatible; MSIE 8.0; Windows NT 6.0; Trident/4.0)\", \"Mozilla/5.0 (Windows NT 6.1; rv:2.0.1) Gecko/20100101 Firefox/4.0.1\", \"Mozilla/4.0 (compatible; MSIE 7.0; Windows NT 5.1; 360SE)\", \"Mozilla/5.0 (Windows NT 5.1) AppleWebKit/537.36 (KHTML, like Gecko) Chrome/36.0.1985.67 Safari/537.36\", \"Mozilla/5.0 (Windows NT 6.1; WOW64) AppleWebKit/537.36 (KHTML, like Gecko) Chrome/41.0.2227.0 Safari/537.36\", \"Mozilla/5.0 (Windows NT 6.3; Win64; x64) AppleWebKit/537.36 (KHTML, like Gecko) Chrome/37.0.2049.0 Safari/537.36\", \"Mozilla/5.0 (Windows NT 6.1; Win64; x64; rv:22.0) Gecko/20130328 Firefox/22.0\", \"Mozilla/5.0 (Windows NT 6.2) AppleWebKit/537.36 (KHTML, like Gecko) Chrome/28.0.1464.0 Safari/537.36\", \"Mozilla/5.0 (Windows NT 6.1; WOW64) AppleWebKit/537.36 (KHTML, like Gecko) Chrome/31.0.1623.0 Safari/537.36\", \"Mozilla/5.0 (Windows NT 6.2; Win64; x64) AppleWebKit/537.36 (KHTML, like Gecko) Chrome/32.0.1667.0 Safari/537.36\", \"Mozilla/5.0 (X11; NetBSD) AppleWebKit/537.36 (KHTML, like Gecko) Chrome/27.0.1453.116 Safari/537.36\", \"Mozilla/5.0 (Windows NT 5.0; rv:21.0) Gecko/20100101 Firefox/21.0\", \"Mozilla/5.0 (Macintosh; Intel Mac OS X 10_9_0) AppleWebKit/537.36 (KHTML, like Gecko) Chrome/32.0.1664.3 Safari/537.36\", \"Opera/9.80 (Windows NT 5.1; U; cs) Presto/2.7.62 Version/11.01\", \"Mozilla/5.0 (Macintosh; Intel Mac OS X 10_9_2) AppleWebKit/537.36 (KHTML, like Gecko) Chrome/36.0.1944.0 Safari/537.36\", \"Mozilla/5.0 (Windows NT 6.1; WOW64; rv:21.0) Gecko/20130331 Firefox/21.0\", \"Mozilla/5.0 (Macintosh; Intel Mac OS X 10_10_1) AppleWebKit/537.36 (KHTML, like Gecko) Chrome/41.0.2227.1 Safari/537.36\", \"Mozilla/5.0 (Windows NT 5.1) AppleWebKit/537.36 (KHTML, like Gecko) Chrome/36.0.1985.67 Safari/537.36\", \"Mozilla/5.0 (Windows NT 10.0) AppleWebKit/537.36 (KHTML, like Gecko) Chrome/40.0.2214.93 Safari/537.36\", \"Mozilla/5.0 (Windows NT 5.1) AppleWebKit/537.36 (KHTML, like Gecko) Chrome/36.0.1985.67 Safari/537.36\", \"Mozilla/5.0 (X11; OpenBSD i386) AppleWebKit/537.36 (KHTML, like Gecko) Chrome/36.0.1985.125 Safari/537.36\", \"Mozilla/5.0 (X11; Linux x86_64) AppleWebKit/537.36 (KHTML, like Gecko) Chrome/34.0.1847.137 Safari/4E423F\", \"Mozilla/5.0 (Windows NT 5.1) AppleWebKit/537.36 (KHTML, like Gecko) Chrome/27.0.1453.93 Safari/537.36\"]\n",
    "        self.decodetype = \"utf-8\"\n",
    "        self.ogs = []\n",
    "\n",
    "    def BS(self, content):\n",
    "        \"\"\"\n",
    "        convert content to html parser\n",
    "        :param content: String\n",
    "        :return: String\n",
    "        \"\"\"\n",
    "        return BS(content, \"html.parser\")\n",
    "\n",
    "    def header(self):\n",
    "        \"\"\"\n",
    "        Select an header with random UA\n",
    "        :return: String\n",
    "        \"\"\"\n",
    "        headers = {\n",
    "            \"user-agent\": random.choice(self.user_agent),\n",
    "        }\n",
    "        return headers\n",
    "\n",
    "    def handle_request(self, url, max_retry_time=10):\n",
    "        try: \n",
    "            respon = requests.get(url=url, headers=self.header(), timeout=1)\n",
    "            if respon.content is None: raise Exception(f\"respon content is None max_retry_time:{max_retry_time}\")\n",
    "        except Exception as e:\n",
    "            if max_retry_time >= 0:\n",
    "                time.sleep(1)\n",
    "                respon = self.handle_request(url, max_retry_time - 1)\n",
    "            else:\n",
    "                raise ConnectionRefusedError(f\"Retried too many times!!! Server refuse connection.\\n{e}\")\n",
    "        return respon\n",
    "    def open_url(self, url, max_retry_time=10):\n",
    "        return self.handle_request(url, max_retry_time).content.decode()\n",
    "\n",
    "# ________________________________________________________________________________________________________________________________\n",
    "    def autoSearchAltsite(self, novelName):\n",
    "        altsite = self.searchMethod1(novelName)\n",
    "        if altsite!=\"-1\": return altsite\n",
    "        altsite = self.searchMethod2(novelName)\n",
    "        if altsite!=\"-1\": return altsite\n",
    "        print(\"Alt search failed\")\n",
    "        return \"autoSearchFailed\"\n",
    "        \n",
    "    def searchMethod1(self, novelName):\n",
    "        print(\"Altsit 1\")\n",
    "        altsite = \"-1\"\n",
    "        base = \"https://www.biqugee.com\"\n",
    "        request_url = f\"https://www.biqugee.com/search.php?q={novelName}\"\n",
    "        respon = self.open_url(request_url)\n",
    "        try:\n",
    "            altsite = base + self.BS(respon).find(\"a\",{\"cpos\":\"title\",\"class\":\"result-game-item-title-link\"})[\"href\"]\n",
    "            return altsite\n",
    "        except TypeError:\n",
    "            return altsite\n",
    "\n",
    "    def searchMethod2(self, novelName):\n",
    "        print(\"Altsit 2\")\n",
    "        altsite = \"-1\"\n",
    "        base = \"https://www.baidu.com\"\n",
    "        request_url = f\"https://www.baidu.com/s?wd={novelName}\"\n",
    "        respon = self.open_url(request_url)\n",
    "        return respon\n",
    "        try:\n",
    "            result = self.BS(respon).find_all(\"div\", attrs={\"class\":\"result-op c-container xpath-log new-pmd\"})\n",
    "            \n",
    "            for re in result:\n",
    "                if re[\"mu\"] is not \"null\":\n",
    "                    altsite = re[\"mu\"]\n",
    "                    break\n",
    "            return altsite\n",
    "        except Exception as e:\n",
    "            return altsite\n",
    "# ________________________________________________________________________________________________________________________________\n",
    "    \n",
    "    def infoPage(self, url, altsite=\"404.html\", append=True, autoSearchAltsite=True):\n",
    "        print(f\"Start infoPage {url}\")\n",
    "        \"\"\"\n",
    "        get info from qidian.com substract from standard header\n",
    "        :param url: book url(qidian.com)\n",
    "        :return: return bookinfo if append is False else add info to self.ogs list\n",
    "        \"\"\"\n",
    "        content = self.BS(self.open_url(url))\n",
    "        og = {\n",
    "            \"url\":url,\n",
    "            \"type\":content.find(\"meta\", {\"property\":\"og:type\"})[\"content\"],\n",
    "            \"title\": content.find(\"meta\", {\"property\": \"og:title\"})[\"content\"],\n",
    "            \"description\": content.find(\"meta\", {\"property\": \"og:description\"})[\"content\"],\n",
    "            \"image\": content.find(\"meta\", {\"property\": \"og:image\"})[\"content\"],\n",
    "            \"novel:category\":content.find(\"meta\", {\"property\": \"og:novel:category\"})[\"content\"],\n",
    "            \"novel:author\": content.find(\"meta\", {\"property\": \"og:novel:author\"})[\"content\"],\n",
    "            \"novel:book_name\": content.find(\"meta\", {\"property\": \"og:novel:book_name\"})[\"content\"],\n",
    "            \"novel:read_url\": content.find(\"meta\", {\"property\": \"og:novel:read_url\"})[\"content\"],\n",
    "            \"novel:status\": content.find(\"meta\", {\"property\": \"og:novel:status\"})[\"content\"],\n",
    "            \"novel:author_link\": content.find(\"meta\", {\"property\": \"og:novel:author_link\"})[\"content\"],\n",
    "            \"novel:update_time\": content.find(\"meta\", {\"property\": \"og:novel:update_time\"})[\"content\"],\n",
    "            \"novel:latest_chapter_name\": content.find(\"meta\", {\"property\": \"og:novel:latest_chapter_name\"})[\"content\"],\n",
    "            \"novel:latest_chapter_url\": content.find(\"meta\", {\"property\": \"og:novel:latest_chapter_url\"})[\"content\"],\n",
    "        }\n",
    "        if og[\"image\"].endswith(\"300\"):og[\"image\"] = og[\"image\"][:-3]+\"180\"\n",
    "        if altsite== \"404.html\" and autoSearchAltsite:\n",
    "            altsite = self.autoSearchAltsite(og[\"title\"])\n",
    "        og[\"altsite\"]=altsite\n",
    "        if append:\n",
    "            self.ogs.append(og)\n",
    "        else:\n",
    "            return og\n",
    "\n",
    "    def append_info_data(self, bookinfo):\n",
    "        \"\"\"\n",
    "        append book info to json file to storage\n",
    "        :param bookinfo: og data\n",
    "        :return: None\n",
    "        \"\"\"\n",
    "        with open(\"info.json\", \"r\") as f:\n",
    "            data = json.loads(f.read())\n",
    "        if bookinfo not in data:\n",
    "            data.append(bookinfo)\n",
    "            with open(\"info.json\", \"w\") as f:\n",
    "                f.write(json.dumps(data))\n",
    "\n",
    "    def replace_info_data(self, bookinfos):\n",
    "        \"\"\"\n",
    "        replace content in info.json\n",
    "        :param bookinfo: og datas\n",
    "        :return: None\n",
    "        \"\"\"\n",
    "        with open(\"info.json\", \"w\") as f:\n",
    "            f.write(json.dumps(bookinfos))\n",
    "            \n",
    "    def nameSearch(self, name, autoPost = True):\n",
    "        print(f\"Start Name search {name}\")\n",
    "        base = \"https:\"\n",
    "        request_url = f\"https://www.qidian.com/soushu/{name}.html\"\n",
    "        respon = self.BS(self.open_url(request_url))\n",
    "        try:\n",
    "            infoPage = base + respon.find(\"li\",{\"class\":\"res-book-item\"}).find(\"h2\",{\"class\":\"book-info-title\"}).a[\"href\"]\n",
    "        except (TypeError, AttributeError) as e:\n",
    "            with open(\"log/search.html\", \"w\") as f:\n",
    "                f.write(str(respon))\n",
    "            print(e)\n",
    "            print(\"Search None save html file to log/search.html\")\n",
    "            return -1\n",
    "        if autoPost:\n",
    "            self.infoPage(infoPage, autoSearchAltsite=True)\n",
    "        else:\n",
    "            return infoPage\n",
    "\n",
    "    def output(self, append=False):\n",
    "        assert len(self.ogs) > 0\n",
    "        if append:\n",
    "            for og in self.ogs:\n",
    "                self.append_info_data(og)\n",
    "        else:\n",
    "            self.replace_info_data(self.ogs)\n",
    "    \n",
    "\n",
    "class webManager:\n",
    "    def setSelfInfo(self):\n",
    "         with open(\"info.json\", \"r\") as f:\n",
    "            self.info = json.loads(f.read())\n",
    "    def update(self, mod=\"from local\", ogs=None):\n",
    "        if mod == \"from local\":\n",
    "            self.setSelfInfo()\n",
    "        elif mod == \"from local append\":\n",
    "            self.setSelfInfo()\n",
    "            for og in ogs:\n",
    "                if og not in self.info:\n",
    "                    self.info.append(og)\n",
    "        elif mod == \"from worm\":\n",
    "            self.info = ogs\n",
    "        txt = []\n",
    "        for og in self.info:\n",
    "            text_replacement = f\"\"\"<tr>\n",
    "            <td style=\"width: 180px;height: 240px;\"\"><div class=\"zoom\"><a href=\"{og[\"url\"]}\">\n",
    "            <img\n",
    "                    src=\"https:{og[\"image\"]}\" alt=\"bookCover\"></a></div>\n",
    "            </td>\n",
    "\n",
    "            <td style=\"width:100%;\">\n",
    "                <a href=\"{og[\"url\"]}\">{og[\"novel:book_name\"]}</a>\n",
    "                <div id=\"book_intro\" style=\"text-align:left;width:100%;height:max-content;\">\n",
    "                    <p>\n",
    "                        {og[\"description\"]}\n",
    "                    </p>\n",
    "                </div>\n",
    "                <div id=\"links\">\n",
    "                    链接：<br>\n",
    "                    <a href=\"{og[\"novel:read_url\"]}\"><button>{og[\"url\"].split(\"/\")[2]}</button></a>\n",
    "                    <a href=\"{og[\"altsite\"]}\"><button>{og[\"altsite\"]}</button></a>\n",
    "                    </div>\n",
    "                </td>\n",
    "                </tr>\"\"\"\n",
    "            txt.append(text_replacement)\n",
    "        with open(\"template/index.html\", \"r\") as f: temp = str(f.read())\n",
    "        with open(\"index.html\", \"w\") as f:\n",
    "            f.write(temp.replace(\"replace\", \"\\n\".join(txt)))\n",
    "    def update_from_worm(self, ogs):\n",
    "        self.update(mod=\"from worm\", ogs=ogs)\n",
    "    def update_from_local_append(self, ogs):\n",
    "        self.update(mod=\"from local append\", ogs=ogs)   \n",
    "\n",
    "class subpages:\n",
    "    def __init__(self):\n",
    "        self.ogs = list(json.load(open(\"info.json\", \"w\")))\n",
    "        print(self.ogs)\n",
    "\n",
    "if __name__ == '__main__':\n",
    "    worm = Worm()\n",
    "    if False:\n",
    "        worm.infoPage(\"https://book.qidian.com/info/1009480992/\", altsite=\"https://www.biqugee.com/book/18461/\") #超神机械师\n",
    "        worm.infoPage(\"https://book.qidian.com/info/1021617576/\", altsite=\"https://www.ddyueshu.com/27171_27171574/\") #夜的命名术\n",
    "        worm.infoPage(\"https://book.qidian.com/info/1029006481/\", altsite=\"https://www.biqugee.com/book/49472/\") #不科学御兽\n",
    "        worm.infoPage(\"https://book.qidian.com/info/1025901449/\", altsite=\"https://www.biqugee.com/book/42560/\") #我的治愈系游戏\n",
    "        worm.infoPage(\"https://book.qidian.com/info/1023867124/\", altsite=\"https://www.biqugee.com/book/39312/\") #我家老婆来自一千年前\n",
    "        worm.infoPage(\"https://book.qidian.com/info/1016150754/\", altsite=\"https://www.biqugee.com/book/30784/\") #亏成首富从游戏开始\n",
    "        worm.infoPage(\"https://book.qidian.com/info/1015525869/\", altsite=\"https://www.biqugee.com/book/30809/\") #变成血族是什么体验\n",
    "        worm.infoPage(\"https://book.qidian.com/info/1013293257/\", altsite=\"https://www.biqugee.com/book/25454/\") #舌尖上的霍格沃茨\n",
    "        worm.infoPage(\"https://book.qidian.com/info/1012284323/\", altsite=\"https://www.biqugee.com/book/22980/\") #我有一座冒险屋\n",
    "        worm.infoPage(\"https://book.qidian.com/info/1003306811/\", altsite=\"https://www.biqugee.com/book/3600/\") #放开那个女巫\n",
    "        worm.infoPage(\"https://book.qidian.com/info/2718601/\", altsite=\"https://www.biqugee.com/book/1876/\") #进化的四十六亿重奏\n",
    "        worm.infoPage(\"https://book.qidian.com/info/3681932/\", altsite=\"https://www.biqugee.com/book/15409/\") #名侦探世界里的巫师\n",
    "        worm.infoPage(\"https://book.qidian.com/info/1025263752/\", altsite=\"https://www.biqugee.com/book/41199/\") #二进制亡者列车\n",
    "        worm.infoPage(\"https://book.qidian.com/info/1022282526/\", altsite=\"https://www.biqugee.com/book/37421/\") #全职艺术家\n",
    "    # worm.nameSearch(\"无限先知\")\n"
   ]
  },
  {
   "cell_type": "code",
   "execution_count": 4,
   "metadata": {},
   "outputs": [
    {
     "data": {
      "text/plain": [
       "[{'url': 'https://book.qidian.com/info/1010144088/',\n",
       "  'type': 'novel',\n",
       "  'title': '无限先知',\n",
       "  'description': '\\u3000\\u3000新书已发《邪神竟是我自己！》记得要打感叹号。\\n徐越穿越到了一个与地球有些类似的平行世界，而后被拉入了这个世界的轮回空间，有趣的是，只有他才知道轮回空间诸多世界当中的剧情。\\n“你知道吗？忍村大战的最终BOSS叫大蛇丸……”\\n火影、巨人、死神、食戟、漫威、高达、艾泽拉斯、一拳、柯南、overlord、fate、龙珠、哈利波特、仙剑、棋魂、DC、盘龙、杀戮都市、遮天、港综圣杯、一世之尊、诡秘之主……\\n靠着对剧情先知先觉的理解，一步先步步先！\\nPS1：已完本《星际传承》《唯一进化者》《机甲战神》《破法之眼》节操满满放心食用。',\n",
       "  'image': '//bookcover.yuewen.com/qdbimg/349573/1010144088/180',\n",
       "  'novel:category': '无限',\n",
       "  'novel:author': '吴杰超',\n",
       "  'novel:book_name': '无限先知',\n",
       "  'novel:read_url': 'https://book.qidian.com/info/1010144088/',\n",
       "  'novel:status': '完本',\n",
       "  'novel:author_link': 'https://my.qidian.com/author/4362734/',\n",
       "  'novel:update_time': '2022-03-04',\n",
       "  'novel:latest_chapter_name': '完本感言',\n",
       "  'novel:latest_chapter_url': '//vipreader.qidian.com/chapter/1010144088/702053525/',\n",
       "  'altsite': 'autoSearchFailed'}]"
      ]
     },
     "execution_count": 4,
     "metadata": {},
     "output_type": "execute_result"
    }
   ],
   "source": [
    "worm.ogs"
   ]
  },
  {
   "cell_type": "code",
   "execution_count": 9,
   "metadata": {},
   "outputs": [
    {
     "name": "stdout",
     "output_type": "stream",
     "text": [
      "Altsit 2\n"
     ]
    }
   ],
   "source": [
    "a = worm.searchMethod2(\"无限先知\")"
   ]
  },
  {
   "cell_type": "code",
   "execution_count": 16,
   "metadata": {},
   "outputs": [
    {
     "data": {
      "text/plain": [
       "<!DOCTYPE html>\n",
       "\n",
       "<html lang=\"zh-CN\">\n",
       "<head>\n",
       "<meta charset=\"utf-8\"/>\n",
       "<title>百度安全验证</title>\n",
       "<meta content=\"text/html; charset=utf-8\" http-equiv=\"Content-Type\"/>\n",
       "<meta content=\"yes\" name=\"apple-mobile-web-app-capable\"/>\n",
       "<meta content=\"black\" name=\"apple-mobile-web-app-status-bar-style\"/>\n",
       "<meta content=\"width=device-width, user-scalable=no, initial-scale=1.0, minimum-scale=1.0, maximum-scale=1.0\" name=\"viewport\"/>\n",
       "<meta content=\"telephone=no, email=no\" name=\"format-detection\"/>\n",
       "<link href=\"https://www.baidu.com/favicon.ico\" rel=\"shortcut icon\" type=\"image/x-icon\"/>\n",
       "<link href=\"https://www.baidu.com/img/baidu.svg\" mask=\"\" rel=\"icon\" sizes=\"any\"/>\n",
       "<meta content=\"IE=Edge\" http-equiv=\"X-UA-Compatible\"/>\n",
       "<meta content=\"upgrade-insecure-requests\" http-equiv=\"Content-Security-Policy\"/>\n",
       "<link href=\"https://ppui-static-wap.cdn.bcebos.com/static/touch/css/api/mkdjump_0635445.css\" rel=\"stylesheet\">\n",
       "</link></head>\n",
       "<body>\n",
       "<div class=\"timeout hide\">\n",
       "<div class=\"timeout-img\"></div>\n",
       "<div class=\"timeout-title\">网络不给力，请稍后重试</div>\n",
       "<button class=\"timeout-button\" type=\"button\">返回首页</button>\n",
       "</div>\n",
       "<div class=\"timeout-feedback hide\">\n",
       "<div class=\"timeout-feedback-icon\"></div>\n",
       "<p class=\"timeout-feedback-title\">问题反馈</p>\n",
       "</div>\n",
       "<script src=\"https://wappass.baidu.com/static/machine/js/api/mkd.js\"></script>\n",
       "<script src=\"https://ppui-static-wap.cdn.bcebos.com/static/touch/js/mkdjump_eac1ee5.js\"></script>\n",
       "</body>\n",
       "</html>"
      ]
     },
     "execution_count": 16,
     "metadata": {},
     "output_type": "execute_result"
    }
   ],
   "source": [
    "worm.BS(a)"
   ]
  },
  {
   "cell_type": "code",
   "execution_count": 18,
   "metadata": {},
   "outputs": [],
   "source": [
    "c = worm.open_url(\"https://cn.bing.com/search?q=%E6%97%A0%E9%99%90%E5%85%88%E7%9F%A5\")"
   ]
  },
  {
   "cell_type": "code",
   "execution_count": 19,
   "metadata": {},
   "outputs": [],
   "source": [
    "w = worm\n",
    "c = w.BS(c)"
   ]
  },
  {
   "cell_type": "code",
   "execution_count": 23,
   "metadata": {},
   "outputs": [],
   "source": [
    "r = c.find_all(\"li\", attrs={\"class\":\"b_algo\"})"
   ]
  },
  {
   "cell_type": "code",
   "execution_count": 25,
   "metadata": {},
   "outputs": [
    {
     "data": {
      "text/plain": [
       "10"
      ]
     },
     "execution_count": 25,
     "metadata": {},
     "output_type": "execute_result"
    }
   ],
   "source": [
    "len(r)"
   ]
  },
  {
   "cell_type": "code",
   "execution_count": 28,
   "metadata": {},
   "outputs": [
    {
     "name": "stdout",
     "output_type": "stream",
     "text": [
      "https://www.81zw.com/book/29992/\n",
      "https://baike.baidu.com/item/%E6%97%A0%E9%99%90%E5%85%88%E7%9F%A5/22296950\n",
      "https://www.bbiquge.net/book_93372/\n",
      "http://vip.book.sina.com.cn/weibobook/book/5483008.html?nwm=weiboamp%3B_nc_ht%3Dscontent-iad3-1.xx\n",
      "http://www.355book.com/book/335/\n",
      "https://www.xxbiqudu.com/72_72983/177085858.html\n",
      "https://www.imiaobige.com/novel/50010.html\n",
      "https://www.umiwx.com/read/64062.html\n",
      "https://www.shuhaige.net/859_3/\n",
      "https://jingyan.baidu.com/article/93f9803fcc9adaa1e46f558c.html\n"
     ]
    }
   ],
   "source": [
    "for re in r:\n",
    "    print(re.div.a[\"href\"])"
   ]
  },
  {
   "cell_type": "code",
   "execution_count": null,
   "metadata": {},
   "outputs": [],
   "source": []
  }
 ],
 "metadata": {
  "interpreter": {
   "hash": "aee8b7b246df8f9039afb4144a1f6fd8d2ca17a180786b69acc140d282b71a49"
  },
  "kernelspec": {
   "display_name": "Python 3.7.9 64-bit",
   "language": "python",
   "name": "python3"
  },
  "language_info": {
   "codemirror_mode": {
    "name": "ipython",
    "version": 3
   },
   "file_extension": ".py",
   "mimetype": "text/x-python",
   "name": "python",
   "nbconvert_exporter": "python",
   "pygments_lexer": "ipython3",
   "version": "3.7.9"
  },
  "orig_nbformat": 4
 },
 "nbformat": 4,
 "nbformat_minor": 2
}
