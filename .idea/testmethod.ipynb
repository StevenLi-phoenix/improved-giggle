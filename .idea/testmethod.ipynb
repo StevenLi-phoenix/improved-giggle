{
 "cells": [
  {
   "cell_type": "code",
   "execution_count": 7,
   "metadata": {},
   "outputs": [
    {
     "data": {
      "text/plain": [
       "'result-op c-container xpath-log new-pmd'"
      ]
     },
     "execution_count": 7,
     "metadata": {},
     "output_type": "execute_result"
    }
   ],
   "source": [
    "\"\"\"result-op c-container xpath-log new-pmd\"\"\""
   ]
  },
  {
   "cell_type": "code",
   "execution_count": 8,
   "metadata": {},
   "outputs": [],
   "source": [
    "import requests, time, random\n",
    "from bs4 import BeautifulSoup as BS"
   ]
  },
  {
   "cell_type": "code",
   "execution_count": 9,
   "metadata": {},
   "outputs": [],
   "source": [
    "class Worm:\n",
    "    def __init__(self):\n",
    "        self.user_agent = [\"Mozilla/5.0 (Linux; Android 6.0; Nexus 5 Build/MRA58N) AppleWebKit/537.36 (KHTML, like Gecko) Chrome/46.0.2490.76 Mobile Safari/537.36\", \"Mozilla/5.0 (Windows; U; Windows NT 6.1; en-us) AppleWebKit/534.50 (KHTML, like Gecko) Version/5.1 Safari/534.50\", \"Mozilla/4.0 (compatible; MSIE 8.0; Windows NT 6.0; Trident/4.0)\", \"Mozilla/5.0 (Windows NT 6.1; rv:2.0.1) Gecko/20100101 Firefox/4.0.1\", \"Mozilla/4.0 (compatible; MSIE 7.0; Windows NT 5.1; 360SE)\", \"Mozilla/5.0 (Windows NT 5.1) AppleWebKit/537.36 (KHTML, like Gecko) Chrome/36.0.1985.67 Safari/537.36\", \"Mozilla/5.0 (Windows NT 6.1; WOW64) AppleWebKit/537.36 (KHTML, like Gecko) Chrome/41.0.2227.0 Safari/537.36\", \"Mozilla/5.0 (Windows NT 6.3; Win64; x64) AppleWebKit/537.36 (KHTML, like Gecko) Chrome/37.0.2049.0 Safari/537.36\", \"Mozilla/5.0 (Windows NT 6.1; Win64; x64; rv:22.0) Gecko/20130328 Firefox/22.0\", \"Mozilla/5.0 (Windows NT 6.2) AppleWebKit/537.36 (KHTML, like Gecko) Chrome/28.0.1464.0 Safari/537.36\", \"Mozilla/5.0 (Windows NT 6.1; WOW64) AppleWebKit/537.36 (KHTML, like Gecko) Chrome/31.0.1623.0 Safari/537.36\", \"Mozilla/5.0 (Windows NT 6.2; Win64; x64) AppleWebKit/537.36 (KHTML, like Gecko) Chrome/32.0.1667.0 Safari/537.36\", \"Mozilla/5.0 (X11; NetBSD) AppleWebKit/537.36 (KHTML, like Gecko) Chrome/27.0.1453.116 Safari/537.36\", \"Mozilla/5.0 (Windows NT 5.0; rv:21.0) Gecko/20100101 Firefox/21.0\", \"Mozilla/5.0 (Macintosh; Intel Mac OS X 10_9_0) AppleWebKit/537.36 (KHTML, like Gecko) Chrome/32.0.1664.3 Safari/537.36\", \"Opera/9.80 (Windows NT 5.1; U; cs) Presto/2.7.62 Version/11.01\", \"Mozilla/5.0 (Macintosh; Intel Mac OS X 10_9_2) AppleWebKit/537.36 (KHTML, like Gecko) Chrome/36.0.1944.0 Safari/537.36\", \"Mozilla/5.0 (Windows NT 6.1; WOW64; rv:21.0) Gecko/20130331 Firefox/21.0\", \"Mozilla/5.0 (Macintosh; Intel Mac OS X 10_10_1) AppleWebKit/537.36 (KHTML, like Gecko) Chrome/41.0.2227.1 Safari/537.36\", \"Mozilla/5.0 (Windows NT 5.1) AppleWebKit/537.36 (KHTML, like Gecko) Chrome/36.0.1985.67 Safari/537.36\", \"Mozilla/5.0 (Windows NT 10.0) AppleWebKit/537.36 (KHTML, like Gecko) Chrome/40.0.2214.93 Safari/537.36\", \"Mozilla/5.0 (Windows NT 5.1) AppleWebKit/537.36 (KHTML, like Gecko) Chrome/36.0.1985.67 Safari/537.36\", \"Mozilla/5.0 (X11; OpenBSD i386) AppleWebKit/537.36 (KHTML, like Gecko) Chrome/36.0.1985.125 Safari/537.36\", \"Mozilla/5.0 (X11; Linux x86_64) AppleWebKit/537.36 (KHTML, like Gecko) Chrome/34.0.1847.137 Safari/4E423F\", \"Mozilla/5.0 (Windows NT 5.1) AppleWebKit/537.36 (KHTML, like Gecko) Chrome/27.0.1453.93 Safari/537.36\"]\n",
    "        self.decodetype = \"utf-8\"\n",
    "        self.ogs = []\n",
    "\n",
    "    def BS(self, content):\n",
    "        \"\"\"\n",
    "        convert content to html parser\n",
    "        :param content: String\n",
    "        :return: String\n",
    "        \"\"\"\n",
    "        return BS(content, \"html.parser\")\n",
    "\n",
    "    def header(self):\n",
    "        \"\"\"\n",
    "        Select an header with random UA\n",
    "        :return: String\n",
    "        \"\"\"\n",
    "        headers = {\n",
    "            \"user-agent\": random.choice(self.user_agent),\n",
    "        }\n",
    "        return headers\n",
    "\n",
    "    def handle_request(self, url, max_retry_time=10):\n",
    "        try: \n",
    "            respon = requests.get(url=url, headers=self.header(), timeout=1)\n",
    "            if respon.content is None: raise Exception(f\"respon content is None max_retry_time:{max_retry_time}\")\n",
    "        except Exception as e:\n",
    "            if max_retry_time >= 0:\n",
    "                print(\"SLEEP\")\n",
    "                time.sleep(1)\n",
    "                respon = self.handle_request(url, max_retry_time - 1)\n",
    "            else:\n",
    "                raise ConnectionRefusedError(f\"Retried too many times!!! Server refuse connection.\\n{e}\")\n",
    "        return respon\n",
    "    def open_url(self, url, max_retry_time=10):\n",
    "        print(f\"Start {url}\")\n",
    "        return self.handle_request(url, max_retry_time).content.decode()"
   ]
  },
  {
   "cell_type": "code",
   "execution_count": 10,
   "metadata": {},
   "outputs": [],
   "source": [
    "w = Worm()"
   ]
  },
  {
   "cell_type": "code",
   "execution_count": 11,
   "metadata": {},
   "outputs": [
    {
     "name": "stdout",
     "output_type": "stream",
     "text": [
      "Start https://www.baidu.com/s?wd=无限先知\n"
     ]
    }
   ],
   "source": [
    "content = w.BS(w.open_url(\"https://www.baidu.com/s?wd=无限先知\"))"
   ]
  },
  {
   "cell_type": "code",
   "execution_count": 16,
   "metadata": {},
   "outputs": [],
   "source": [
    "result = content.find_all(\"div\", attrs={\"class\":\"result-op c-container xpath-log new-pmd\"})"
   ]
  },
  {
   "cell_type": "code",
   "execution_count": 20,
   "metadata": {},
   "outputs": [
    {
     "data": {
      "text/plain": [
       "8"
      ]
     },
     "execution_count": 20,
     "metadata": {},
     "output_type": "execute_result"
    }
   ],
   "source": [
    "len(result)"
   ]
  },
  {
   "cell_type": "code",
   "execution_count": 23,
   "metadata": {},
   "outputs": [
    {
     "name": "stdout",
     "output_type": "stream",
     "text": [
      "https://www.xbiquge.la/19/15484/\n",
      "https://www.ddbiquge.cc/book/47784.html\n",
      "https://www.7722.org/html/64285/\n",
      "null\n",
      "https://baike.baidu.com/item/%E6%97%A0%E9%99%90%E5%85%88%E7%9F%A5/22296950\n",
      "https://www.yqxs.cc/html/110/110783/index.html\n",
      "http://tieba.baidu.com/f?kw=%CE%DE%CF%DE%CF%C8%D6%AA&fr=ala0&loc=rec&tids=7574989514,7616151566,7418536528\n",
      "https://www.xyangguiweihuo.com/6/6700/\n"
     ]
    }
   ],
   "source": [
    "for re in result:\n",
    "    print(re[\"mu\"])"
   ]
  },
  {
   "cell_type": "code",
   "execution_count": null,
   "metadata": {},
   "outputs": [],
   "source": []
  }
 ],
 "metadata": {
  "interpreter": {
   "hash": "aee8b7b246df8f9039afb4144a1f6fd8d2ca17a180786b69acc140d282b71a49"
  },
  "kernelspec": {
   "display_name": "Python 3.7.9 64-bit",
   "language": "python",
   "name": "python3"
  },
  "language_info": {
   "codemirror_mode": {
    "name": "ipython",
    "version": 3
   },
   "file_extension": ".py",
   "mimetype": "text/x-python",
   "name": "python",
   "nbconvert_exporter": "python",
   "pygments_lexer": "ipython3",
   "version": "3.7.9"
  },
  "orig_nbformat": 4
 },
 "nbformat": 4,
 "nbformat_minor": 2
}
